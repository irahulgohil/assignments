{
 "metadata": {
  "language_info": {
   "codemirror_mode": {
    "name": "ipython",
    "version": 3
   },
   "file_extension": ".py",
   "mimetype": "text/x-python",
   "name": "python",
   "nbconvert_exporter": "python",
   "pygments_lexer": "ipython3",
   "version": "3.8.5"
  },
  "orig_nbformat": 2,
  "kernelspec": {
   "name": "python385jvsc74a57bd0df642eef7b43fe7a4a517bca7a97690968a466268416ac555ac71584a4a4c66c",
   "display_name": "Python 3.8.5 64-bit ('base': conda)"
  }
 },
 "nbformat": 4,
 "nbformat_minor": 2,
 "cells": [
  {
   "cell_type": "code",
   "execution_count": null,
   "metadata": {},
   "outputs": [],
   "source": [
    "#1.\tWrite a Python program to convert kilometers to miles?\n",
    "\n",
    "kilometers=int(input(\"Please Enter the Value in Kilometers which you want to convert in Milies: \"))\n",
    "print(f\"{kilometers} km is equivalent to {kilometers*0.62137119:,.2f} miles:\")"
   ]
  },
  {
   "cell_type": "code",
   "execution_count": null,
   "metadata": {},
   "outputs": [],
   "source": [
    "#2.\tWrite a Python program to convert Celsius to Fahrenheit?\n",
    "Celsius=int(input(\"Please Enter the Temperature in Celsius which you want to convert in Fahrenheit: \"))\n",
    "print(f\"{Celsius}C is equivalent to {(Celsius*1.8)+32}F\")"
   ]
  },
  {
   "cell_type": "code",
   "execution_count": null,
   "metadata": {},
   "outputs": [],
   "source": [
    "#3.\tWrite a Python program to display calendar?\n",
    "import calendar\n",
    "year= int(input(\"Please Enter the Year: \"))\n",
    "print(calendar.calendar(year))"
   ]
  },
  {
   "cell_type": "code",
   "execution_count": null,
   "metadata": {},
   "outputs": [],
   "source": [
    "#4.\tWrite a Python program to solve quadratic equation?\n",
    "import math\n",
    "a=int(input(\"Please Enter the coefficient of x^2: \"))\n",
    "b=int(input(\"Please Enter the coefficient of x: \"))\n",
    "c=int(input(\"Please Enter the constant: \"))\n",
    "\n",
    "root1= (-b-math.sqrt((b**2)-(4*a*c)))/(2*a)\n",
    "root2= (-b+math.sqrt((b**2)-(4*a*c)))/(2*a)\n",
    "print(f\"value of 1st Root of quadratic equation is {root1}\")\n",
    "print(f\"value of 2nd Root of quadratic equation is {root2}\")"
   ]
  },
  {
   "cell_type": "code",
   "execution_count": null,
   "metadata": {},
   "outputs": [],
   "source": [
    "#5.\tWrite a Python program to swap two variables without temp variable?\n",
    "a=int(input(\"Please Enter your 1st number: \"))\n",
    "b=int(input(\"Please Enter yout 2nd number: \"))\n",
    "print(f\"these are your entered numbers: {a} and {b}\")\n",
    "char1=input(\"Do you want to swapp the values Enter 'Y' if Yes or Enter 'N' if No\")\n",
    "if char1=='Y' or char1=='y':\n",
    "    a,b= b,a\n",
    "    print(f\"WHOA!!! Congrats you have swapped the values\\nyour 1st number is {a} and 2nd number is {b}\")\n",
    "elif char1=='N' or char1=='n':\n",
    "    print(f\"Okay!! No Problem Dear!! Values are as it is\\nyour 1st number is {a} and 2nd number is {b}\")\n",
    "else :\n",
    "    print(\"Sorry Wrong Input!! Please Try Again\")\n"
   ]
  }
 ]
}