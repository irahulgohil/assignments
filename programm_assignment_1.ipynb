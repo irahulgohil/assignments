{
 "metadata": {
  "language_info": {
   "codemirror_mode": {
    "name": "ipython",
    "version": 3
   },
   "file_extension": ".py",
   "mimetype": "text/x-python",
   "name": "python",
   "nbconvert_exporter": "python",
   "pygments_lexer": "ipython3",
   "version": "3.8.5"
  },
  "orig_nbformat": 2,
  "kernelspec": {
   "name": "python385jvsc74a57bd0df642eef7b43fe7a4a517bca7a97690968a466268416ac555ac71584a4a4c66c",
   "display_name": "Python 3.8.5 64-bit ('base': conda)"
  }
 },
 "nbformat": 4,
 "nbformat_minor": 2,
 "cells": [
  {
   "cell_type": "code",
   "execution_count": 1,
   "metadata": {},
   "outputs": [
    {
     "output_type": "stream",
     "name": "stdout",
     "text": [
      "Hello Phython\n",
      "Sum of both the Numbers is:  27\n",
      "Division of both the Numbers is:  0.8\n",
      "Area of the Triangle : 90.0\n",
      "wapped Value of a:  20\n",
      "swapped value of b:  10\n",
      "Random Number between range 1 to 999:  722\n"
     ]
    }
   ],
   "source": [
    "#1.\tWrite a Python program to print \"Hello Python\"?\n",
    "print(\"Hello Phython\")\n",
    "\n",
    "#2.Write a Python program to do arithmetical operations addition and division.?\n",
    "num1=int(input(\"Please Enter 1st Number: \"))\n",
    "num2=int(input(\"Please Enter 2nd Number: \"))\n",
    "print(\"Sum of both the Numbers is: \",num1+num2)\n",
    "print(\"Division of both the Numbers is: \",num1/num2)\n",
    "\n",
    "#3.\tWrite a Python program to find the area of a triangle?\n",
    "h=int(input(\"Please Enter the Height of the Triangle : \"))\n",
    "b=int(input(\"Please Enter the Base of the Triangle : \"))\n",
    "Ar=(h*b)*(1/2)\n",
    "print(\"Area of the Triangle :\", Ar)\n",
    "\n",
    "#4.\tWrite a Python program to swap two variables?\n",
    "a=10\n",
    "b=20\n",
    "temp=a\n",
    "a=b\n",
    "b=temp\n",
    "print(\"wapped Value of a: \", a)\n",
    "print(\"swapped value of b: \", b)\n",
    "\n",
    "#5.\tWrite a Python program to generate a random number?\n",
    "import random\n",
    "print(\"Random Number between range 1 to 999: \", random.randint(1, 999))"
   ]
  },
  {
   "cell_type": "code",
   "execution_count": null,
   "metadata": {},
   "outputs": [],
   "source": []
  },
  {
   "cell_type": "code",
   "execution_count": null,
   "metadata": {},
   "outputs": [],
   "source": []
  }
 ]
}